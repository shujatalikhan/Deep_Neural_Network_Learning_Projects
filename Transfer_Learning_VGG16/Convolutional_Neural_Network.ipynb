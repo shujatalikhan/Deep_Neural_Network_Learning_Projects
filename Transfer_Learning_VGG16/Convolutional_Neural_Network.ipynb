{
  "nbformat": 4,
  "nbformat_minor": 0,
  "metadata": {
    "colab": {
      "name": "Convolutional_Neural_Network.ipynb",
      "version": "0.3.2",
      "provenance": [],
      "collapsed_sections": []
    },
    "kernelspec": {
      "name": "python3",
      "display_name": "Python 3"
    },
    "accelerator": "GPU"
  },
  "cells": [
    {
      "cell_type": "code",
      "metadata": {
        "id": "z5qR-arvpnbt",
        "colab_type": "code",
        "colab": {
          "base_uri": "https://localhost:8080/",
          "height": 50
        },
        "outputId": "755b7a53-1896-4da5-f285-c72d6caa909a"
      },
      "source": [
        "!ls"
      ],
      "execution_count": 1,
      "outputs": [
        {
          "output_type": "stream",
          "text": [
            "cat.jpg     dogs-vs-cats.zip  kaggle.json  test\n",
            "doggy.jpeg  initial-cnn.h5    sample_data  train\n"
          ],
          "name": "stdout"
        }
      ]
    },
    {
      "cell_type": "code",
      "metadata": {
        "id": "UmSRju_opziH",
        "colab_type": "code",
        "colab": {}
      },
      "source": [
        "!unzip dogs-vs-cats.zip"
      ],
      "execution_count": 0,
      "outputs": []
    },
    {
      "cell_type": "code",
      "metadata": {
        "id": "2_cz9G_Tp67L",
        "colab_type": "code",
        "colab": {
          "base_uri": "https://localhost:8080/",
          "height": 34
        },
        "outputId": "22f18d3a-90d9-491b-af82-565fa963219e"
      },
      "source": [
        "%matplotlib inline\n",
        "import pandas as pd\n",
        "from keras.preprocessing.image import ImageDataGenerator\n",
        "from keras.models import Model\n",
        "from keras.layers import Input, Convolution2D, MaxPooling2D, Dropout, Flatten, Dense\n",
        "from keras.callbacks import Callback, ModelCheckpoint"
      ],
      "execution_count": 2,
      "outputs": [
        {
          "output_type": "stream",
          "text": [
            "Using TensorFlow backend.\n"
          ],
          "name": "stderr"
        }
      ]
    },
    {
      "cell_type": "markdown",
      "metadata": {
        "id": "fq7rCZ5V7FHe",
        "colab_type": "text"
      },
      "source": [
        ""
      ]
    },
    {
      "cell_type": "code",
      "metadata": {
        "id": "pPMcks7RqAar",
        "colab_type": "code",
        "colab": {}
      },
      "source": [
        "IMG_WIDTH, IMG_HEIGHT = 150, 150\n",
        "TRAIN_DATA_DIR = 'train'\n",
        "VALIDATION_DATA_DIR = 'test'\n",
        "MODEL_WEIGHTS_FILE = 'initial-cnn.h5'\n",
        "NB_TRAIN_SAMPLES = 20000\n",
        "NB_VALIDATION_SAMPLES = 5000\n",
        "NB_EPOCH = 15"
      ],
      "execution_count": 0,
      "outputs": []
    },
    {
      "cell_type": "markdown",
      "metadata": {
        "id": "7oRjFdLv6LZF",
        "colab_type": "text"
      },
      "source": [
        "# Structuring Convolutional Neural Network with Keras"
      ]
    },
    {
      "cell_type": "code",
      "metadata": {
        "id": "W-PAVHbHqD55",
        "colab_type": "code",
        "colab": {
          "base_uri": "https://localhost:8080/",
          "height": 272
        },
        "outputId": "9a7a42dc-e252-4ff7-e7cf-71d39a2f34d5"
      },
      "source": [
        "input = Input(shape=(IMG_WIDTH, IMG_HEIGHT, 3,))\n",
        "x = Convolution2D(32, 3, 3, activation='relu')(input)\n",
        "x = MaxPooling2D(pool_size=(2, 2))(x)\n",
        "x = Convolution2D(32, 3, 3, activation='relu')(x)\n",
        "x = MaxPooling2D(pool_size=(2, 2))(x)\n",
        "x = Convolution2D(64, 3, 3, activation='relu')(x)\n",
        "x = MaxPooling2D(pool_size=(2, 2))(x)\n",
        "x = Flatten()(x)\n",
        "x = Dense(64, activation='relu')(x)\n",
        "x = Dropout(0.5)(x)\n",
        "x = Dense(2, activation='softmax')(x)\n",
        "model = Model(input=input, output=x)"
      ],
      "execution_count": 5,
      "outputs": [
        {
          "output_type": "stream",
          "text": [
            "WARNING:tensorflow:From /usr/local/lib/python3.6/dist-packages/tensorflow/python/framework/op_def_library.py:263: colocate_with (from tensorflow.python.framework.ops) is deprecated and will be removed in a future version.\n",
            "Instructions for updating:\n",
            "Colocations handled automatically by placer.\n",
            "WARNING:tensorflow:From /usr/local/lib/python3.6/dist-packages/keras/backend/tensorflow_backend.py:3445: calling dropout (from tensorflow.python.ops.nn_ops) with keep_prob is deprecated and will be removed in a future version.\n",
            "Instructions for updating:\n",
            "Please use `rate` instead of `keep_prob`. Rate should be set to `rate = 1 - keep_prob`.\n"
          ],
          "name": "stdout"
        },
        {
          "output_type": "stream",
          "text": [
            "/usr/local/lib/python3.6/dist-packages/ipykernel_launcher.py:2: UserWarning: Update your `Conv2D` call to the Keras 2 API: `Conv2D(32, (3, 3), activation=\"relu\")`\n",
            "  \n",
            "/usr/local/lib/python3.6/dist-packages/ipykernel_launcher.py:4: UserWarning: Update your `Conv2D` call to the Keras 2 API: `Conv2D(32, (3, 3), activation=\"relu\")`\n",
            "  after removing the cwd from sys.path.\n",
            "/usr/local/lib/python3.6/dist-packages/ipykernel_launcher.py:6: UserWarning: Update your `Conv2D` call to the Keras 2 API: `Conv2D(64, (3, 3), activation=\"relu\")`\n",
            "  \n",
            "/usr/local/lib/python3.6/dist-packages/ipykernel_launcher.py:12: UserWarning: Update your `Model` call to the Keras 2 API: `Model(inputs=Tensor(\"in..., outputs=Tensor(\"de...)`\n",
            "  if sys.path[0] == '':\n"
          ],
          "name": "stderr"
        }
      ]
    },
    {
      "cell_type": "code",
      "metadata": {
        "id": "FR8yKDtLqQvq",
        "colab_type": "code",
        "colab": {
          "base_uri": "https://localhost:8080/",
          "height": 504
        },
        "outputId": "cf89eb75-c595-4ca0-9c73-3e785d38b1e6"
      },
      "source": [
        "model.summary()"
      ],
      "execution_count": 6,
      "outputs": [
        {
          "output_type": "stream",
          "text": [
            "_________________________________________________________________\n",
            "Layer (type)                 Output Shape              Param #   \n",
            "=================================================================\n",
            "input_1 (InputLayer)         (None, 150, 150, 3)       0         \n",
            "_________________________________________________________________\n",
            "conv2d_1 (Conv2D)            (None, 148, 148, 32)      896       \n",
            "_________________________________________________________________\n",
            "max_pooling2d_1 (MaxPooling2 (None, 74, 74, 32)        0         \n",
            "_________________________________________________________________\n",
            "conv2d_2 (Conv2D)            (None, 72, 72, 32)        9248      \n",
            "_________________________________________________________________\n",
            "max_pooling2d_2 (MaxPooling2 (None, 36, 36, 32)        0         \n",
            "_________________________________________________________________\n",
            "conv2d_3 (Conv2D)            (None, 34, 34, 64)        18496     \n",
            "_________________________________________________________________\n",
            "max_pooling2d_3 (MaxPooling2 (None, 17, 17, 64)        0         \n",
            "_________________________________________________________________\n",
            "flatten_1 (Flatten)          (None, 18496)             0         \n",
            "_________________________________________________________________\n",
            "dense_1 (Dense)              (None, 64)                1183808   \n",
            "_________________________________________________________________\n",
            "dropout_1 (Dropout)          (None, 64)                0         \n",
            "_________________________________________________________________\n",
            "dense_2 (Dense)              (None, 2)                 130       \n",
            "=================================================================\n",
            "Total params: 1,212,578\n",
            "Trainable params: 1,212,578\n",
            "Non-trainable params: 0\n",
            "_________________________________________________________________\n"
          ],
          "name": "stdout"
        }
      ]
    },
    {
      "cell_type": "markdown",
      "metadata": {
        "id": "-UHsePj06X7I",
        "colab_type": "text"
      },
      "source": [
        "## Compile model "
      ]
    },
    {
      "cell_type": "code",
      "metadata": {
        "id": "9BNFXUMTqcdE",
        "colab_type": "code",
        "colab": {}
      },
      "source": [
        "model.compile(loss='categorical_crossentropy',\n",
        "              optimizer='rmsprop',\n",
        "              metrics=['accuracy'])"
      ],
      "execution_count": 0,
      "outputs": []
    },
    {
      "cell_type": "markdown",
      "metadata": {
        "id": "L5tnVEuq6qh7",
        "colab_type": "text"
      },
      "source": [
        "## Data Augmentation"
      ]
    },
    {
      "cell_type": "code",
      "metadata": {
        "id": "M6Hy47cAqiCK",
        "colab_type": "code",
        "colab": {}
      },
      "source": [
        "train_datagen = ImageDataGenerator(\n",
        "        rescale=1./255,\n",
        "        shear_range=0.2,\n",
        "        zoom_range=0.2,\n",
        "        horizontal_flip=True)"
      ],
      "execution_count": 0,
      "outputs": []
    },
    {
      "cell_type": "code",
      "metadata": {
        "id": "pAodaTFMqkxA",
        "colab_type": "code",
        "colab": {}
      },
      "source": [
        "test_datagen = ImageDataGenerator(rescale=1./255)"
      ],
      "execution_count": 0,
      "outputs": []
    },
    {
      "cell_type": "code",
      "metadata": {
        "id": "d-wWP3wlqnyU",
        "colab_type": "code",
        "colab": {
          "base_uri": "https://localhost:8080/",
          "height": 34
        },
        "outputId": "8ed91118-dae8-43ac-bd7f-68d0cc07ff14"
      },
      "source": [
        "train_generator = train_datagen.flow_from_directory(\n",
        "        TRAIN_DATA_DIR,\n",
        "        target_size=(IMG_WIDTH, IMG_HEIGHT),\n",
        "        batch_size=32,\n",
        "        class_mode='categorical')"
      ],
      "execution_count": 10,
      "outputs": [
        {
          "output_type": "stream",
          "text": [
            "Found 20000 images belonging to 2 classes.\n"
          ],
          "name": "stdout"
        }
      ]
    },
    {
      "cell_type": "code",
      "metadata": {
        "id": "eG8FOEZAqqkn",
        "colab_type": "code",
        "colab": {
          "base_uri": "https://localhost:8080/",
          "height": 34
        },
        "outputId": "8337f555-b7ef-40b7-94ac-feca4919b02a"
      },
      "source": [
        "validation_generator = test_datagen.flow_from_directory(\n",
        "        VALIDATION_DATA_DIR,\n",
        "        target_size=(IMG_WIDTH, IMG_HEIGHT),\n",
        "        batch_size=32,\n",
        "        class_mode='categorical')"
      ],
      "execution_count": 11,
      "outputs": [
        {
          "output_type": "stream",
          "text": [
            "Found 5000 images belonging to 2 classes.\n"
          ],
          "name": "stdout"
        }
      ]
    },
    {
      "cell_type": "markdown",
      "metadata": {
        "id": "Ebe3L-ZG63N0",
        "colab_type": "text"
      },
      "source": [
        "## Fit the Model"
      ]
    },
    {
      "cell_type": "code",
      "metadata": {
        "id": "9b_9-mULqtm0",
        "colab_type": "code",
        "colab": {
          "base_uri": "https://localhost:8080/",
          "height": 658
        },
        "outputId": "19e73017-d925-4154-fcf1-824ba53f4cda"
      },
      "source": [
        " model.fit_generator(\n",
        "        train_generator,\n",
        "        callbacks = callbacks,\n",
        "    \n",
        "    \n",
        "        steps_per_epoch=100,\n",
        "        \n",
        "        nb_epoch=NB_EPOCH,\n",
        "        validation_data=validation_generator,\n",
        "        validation_steps=100,\n",
        "        \n",
        "        verbose=2)"
      ],
      "execution_count": 12,
      "outputs": [
        {
          "output_type": "stream",
          "text": [
            "WARNING:tensorflow:From /usr/local/lib/python3.6/dist-packages/tensorflow/python/ops/math_ops.py:3066: to_int32 (from tensorflow.python.ops.math_ops) is deprecated and will be removed in a future version.\n",
            "Instructions for updating:\n",
            "Use tf.cast instead.\n"
          ],
          "name": "stdout"
        },
        {
          "output_type": "stream",
          "text": [
            "/usr/local/lib/python3.6/dist-packages/ipykernel_launcher.py:13: UserWarning: The semantics of the Keras 2 argument `steps_per_epoch` is not the same as the Keras 1 argument `samples_per_epoch`. `steps_per_epoch` is the number of batches to draw from the generator at each epoch. Basically steps_per_epoch = samples_per_epoch/batch_size. Similarly `nb_val_samples`->`validation_steps` and `val_samples`->`steps` arguments have changed. Update your method calls accordingly.\n",
            "  del sys.path[0]\n",
            "/usr/local/lib/python3.6/dist-packages/ipykernel_launcher.py:13: UserWarning: Update your `fit_generator` call to the Keras 2 API: `fit_generator(<keras_pre..., callbacks=[<keras.ca..., steps_per_epoch=100, validation_data=<keras_pre..., validation_steps=100, verbose=2, epochs=15)`\n",
            "  del sys.path[0]\n"
          ],
          "name": "stderr"
        },
        {
          "output_type": "stream",
          "text": [
            "Epoch 1/15\n",
            " - 36s - loss: 0.7314 - acc: 0.5291 - val_loss: 0.7147 - val_acc: 0.5369\n",
            "Epoch 2/15\n",
            " - 32s - loss: 0.6632 - acc: 0.6291 - val_loss: 0.5704 - val_acc: 0.7201\n",
            "Epoch 3/15\n",
            " - 30s - loss: 0.6179 - acc: 0.6641 - val_loss: 0.5562 - val_acc: 0.7200\n",
            "Epoch 4/15\n",
            " - 30s - loss: 0.6066 - acc: 0.6912 - val_loss: 0.5039 - val_acc: 0.7509\n",
            "Epoch 5/15\n",
            " - 32s - loss: 0.5931 - acc: 0.7009 - val_loss: 0.5685 - val_acc: 0.7037\n",
            "Epoch 6/15\n",
            " - 31s - loss: 0.5781 - acc: 0.7025 - val_loss: 0.6265 - val_acc: 0.6600\n",
            "Epoch 7/15\n",
            " - 32s - loss: 0.5560 - acc: 0.7216 - val_loss: 0.5627 - val_acc: 0.6968\n",
            "Epoch 8/15\n",
            " - 31s - loss: 0.5573 - acc: 0.7291 - val_loss: 0.6103 - val_acc: 0.7040\n",
            "Epoch 9/15\n",
            " - 30s - loss: 0.5347 - acc: 0.7406 - val_loss: 0.5400 - val_acc: 0.7247\n",
            "Epoch 10/15\n",
            " - 32s - loss: 0.5458 - acc: 0.7362 - val_loss: 0.5696 - val_acc: 0.7349\n",
            "Epoch 11/15\n",
            " - 32s - loss: 0.5240 - acc: 0.7566 - val_loss: 0.4965 - val_acc: 0.7724\n",
            "Epoch 12/15\n",
            " - 31s - loss: 0.5130 - acc: 0.7472 - val_loss: 0.5929 - val_acc: 0.7369\n",
            "Epoch 13/15\n",
            " - 31s - loss: 0.5222 - acc: 0.7463 - val_loss: 0.4567 - val_acc: 0.7837\n",
            "Epoch 14/15\n",
            " - 31s - loss: 0.5079 - acc: 0.7453 - val_loss: 0.4331 - val_acc: 0.7975\n",
            "Epoch 15/15\n",
            " - 32s - loss: 0.4862 - acc: 0.7687 - val_loss: 0.4425 - val_acc: 0.7972\n"
          ],
          "name": "stdout"
        }
      ]
    },
    {
      "cell_type": "code",
      "metadata": {
        "id": "nQO1FUJqvRNl",
        "colab_type": "code",
        "colab": {}
      },
      "source": [
        ""
      ],
      "execution_count": 0,
      "outputs": []
    }
  ]
}